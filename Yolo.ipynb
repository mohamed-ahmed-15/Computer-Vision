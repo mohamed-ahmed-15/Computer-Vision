{
 "cells": [
  {
   "cell_type": "code",
   "execution_count": 1,
   "id": "f5c1686f-3540-4807-b747-556b2312521f",
   "metadata": {},
   "outputs": [],
   "source": [
    "from ultralytics import YOLO\n",
    "import cv2\n",
    "import matplotlib.pyplot as plt"
   ]
  },
  {
   "cell_type": "code",
   "execution_count": null,
   "id": "ea134207-0a5e-4b19-afeb-c3f82146dcdd",
   "metadata": {},
   "outputs": [
    {
     "name": "stdout",
     "output_type": "stream",
     "text": [
      "\n",
      "image 1/1 C:\\Users\\mf\\OneDrive\\Desktop\\image.jpg: 448x640 1 person, 1 bicycle, 5 cars, 1 truck, 173.3ms\n",
      "Speed: 11.0ms preprocess, 173.3ms inference, 3.3ms postprocess per image at shape (1, 3, 448, 640)\n",
      "Results saved to \u001b[1mruns\\detect\\predict6\u001b[0m\n"
     ]
    }
   ],
   "source": [
    "model = YOLO(\"yolov8n.pt\")\n",
    "results = model(source=r\"C:/Users/DELL/Downloads/image123.jpg\", show=True, conf=0.4, save=True)\n",
    "# output_path = results[0].path  \n",
    "# output_image = cv2.imread(output_path)\n",
    "# output_image = cv2.cvtColor(output_image, cv2.COLOR_BGR2RGB)  # Convert BGR to RGB for matplotlib\n",
    "# plt.figure(figsize=(10, 10))\n",
    "# plt.imshow(output_image)\n",
    "# plt.axis(\"off\")\n",
    "# plt.show()"
   ]
  }
 ],
 "metadata": {
  "kernelspec": {
   "display_name": "Python 3 (ipykernel)",
   "language": "python",
   "name": "python3"
  },
  "language_info": {
   "codemirror_mode": {
    "name": "ipython",
    "version": 3
   },
   "file_extension": ".py",
   "mimetype": "text/x-python",
   "name": "python",
   "nbconvert_exporter": "python",
   "pygments_lexer": "ipython3",
   "version": "3.11.5"
  }
 },
 "nbformat": 4,
 "nbformat_minor": 5
}
